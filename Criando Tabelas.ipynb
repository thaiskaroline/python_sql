{
 "cells": [
  {
   "cell_type": "code",
   "execution_count": 4,
   "id": "13ab31c2",
   "metadata": {},
   "outputs": [
    {
     "name": "stdout",
     "output_type": "stream",
     "text": [
      "Conectado com sucesso!\n",
      "[(1, 'Clevisson Santos', '555'), (2, 'Hilda', '999'), (3, 'Aluno', '123')]\n"
     ]
    }
   ],
   "source": [
    "import pyodbc\n",
    "\n",
    "\n",
    "#Driver - Drive\n",
    "#Server - Servidor\n",
    "#DataBase - Nome do Banco de Dados\n",
    "\n",
    "dadosConexao = (\"Driver={SQLite3 ODBC Driver};Server=localhost;DataBase=Projeto_Compras.db\")\n",
    "\n",
    "#SE QUISER COLOCAR SENHA\n",
    "#UID - Login\n",
    "#PWD - Senha\n",
    "\n",
    "\n",
    "#Criando a conexão\n",
    "conexao = pyodbc.connect(dadosConexao)\n",
    "\n",
    "print(\"Conectado com sucesso!\")\n",
    "\n",
    "\n",
    "#cursor = Ferramenta para executar os comandos em SQL\n",
    "cursor = conexao.cursor()\n",
    "\n",
    "\n",
    "#Selecionando a tabela\n",
    "cursor.execute(\"Select * From Usuarios\")\n",
    "\n",
    "\n",
    "#Passar dados para a variavel\n",
    "valores = cursor.fetchall()\n",
    "\n",
    "\n",
    "print(valores)"
   ]
  },
  {
   "cell_type": "code",
   "execution_count": null,
   "id": "f9c54f0a",
   "metadata": {},
   "outputs": [],
   "source": []
  }
 ],
 "metadata": {
  "kernelspec": {
   "display_name": "Python 3 (ipykernel)",
   "language": "python",
   "name": "python3"
  },
  "language_info": {
   "codemirror_mode": {
    "name": "ipython",
    "version": 3
   },
   "file_extension": ".py",
   "mimetype": "text/x-python",
   "name": "python",
   "nbconvert_exporter": "python",
   "pygments_lexer": "ipython3",
   "version": "3.11.5"
  }
 },
 "nbformat": 4,
 "nbformat_minor": 5
}
